{
 "cells": [
  {
   "cell_type": "markdown",
   "metadata": {},
   "source": [
    "# Data-Aid\n",
    "### Transactional Analysis Project at a Glance"
   ]
  },
  {
   "cell_type": "code",
   "execution_count": 3,
   "metadata": {},
   "outputs": [],
   "source": [
    "#import nltk; nltk.download('stopwords')\n",
    "import os\n",
    "import re\n",
    "import numpy as np\n",
    "import pandas as pd\n",
    "from pprint import pprint\n",
    "from IPython.display import HTML, display\n",
    "import gensim\n",
    "import gensim.corpora as corpora\n",
    "from gensim.utils import simple_preprocess\n",
    "from gensim.models import CoherenceModel\n",
    "\n",
    "import spacy\n",
    "\n",
    "import pyLDAvis\n",
    "import pyLDAvis.gensim\n",
    "import matplotlib.pyplot as plt\n",
    "%matplotlib inline\n",
    "\n",
    "import logging\n",
    "logging.basicConfig(format='%(asctime)s : %(levelname)s : %(message)s', level=logging.ERROR)\n",
    "\n",
    "import warnings\n",
    "warnings.filterwarnings('ignore', category=DeprecationWarning)"
   ]
  },
  {
   "cell_type": "markdown",
   "metadata": {},
   "source": [
    "## Initial Analysis of Data \n",
    "\n",
    "The initial steps to any KDD process is the data selection and exploration stage. The data in this project outlines transactions conducted in on an eCommerce site from the UCI online retail repository. (See references in report for data source)\n",
    "\n",
    "There were informative and insightful visualisations created within this initial analysis which can be seen below:"
   ]
  },
  {
   "cell_type": "code",
   "execution_count": 19,
   "metadata": {
    "scrolled": true
   },
   "outputs": [
    {
     "data": {
      "text/html": [
       "<h2>Distribution of Transactions over Time and number of Items Bought Per Customer</h2><table style='width: 100%'><tr><td><img src='DistOfPurchasesOverTimeHistogram.png'></td></tr><tr><td><img src='CustomersNItems.png'></td></tr><tr><td><img src='Top10ItemsSold.png'></td></tr></table>"
      ],
      "text/plain": [
       "<IPython.core.display.HTML object>"
      ]
     },
     "metadata": {},
     "output_type": "display_data"
    }
   ],
   "source": [
    "display(HTML(\"<h2>Distribution of Transactions over Time and number of Items Bought Per Customer</h2><table><tr><td><img src='DistOfPurchasesOverTimeHistogram.png'></td></tr><tr><td><img src='CustomersNItems.png'></td></tr><tr><td><img src='Top10ItemsSold.png'></td></tr></table>\"))"
   ]
  },
  {
   "cell_type": "markdown",
   "metadata": {},
   "source": [
    "From these visualisations it can be seen that the times when transactions occur most frequently are in the early afternoon, following a normal distrubution based on the bell shaped curve of the graph\n",
    "\n",
    "In regards to the number of items per customer, it can be seen that for most customers, they buy a relatively small set of items ( most below 20 items). There are a sigbnificant number of outliers with some customers ordering up to 100 items. This could perhaps identify a wholeseller market of items. It can also be seen what were the most common items bought by customers,the white t-shirt holder and regency cheesecake stand being the most commonly bought items. \n",
    "This is a good initial example of how useful insights can be drawn from this type of data. "
   ]
  },
  {
   "cell_type": "markdown",
   "metadata": {},
   "source": [
    "## Association Rule Mining\n",
    "\n",
    "This is a brief overview of the results from the assocaiation rule mining on the UCI receipt data. This was conducted in R using the apriori library; an R interface of the apriori algorithm."
   ]
  },
  {
   "cell_type": "code",
   "execution_count": 17,
   "metadata": {
    "scrolled": false
   },
   "outputs": [
    {
     "data": {
      "text/html": [
       "<h2>Association Rules Visualisations</h2><table><tr><td><img src='ScatterPlotAssocRules.png'></td></tr><tr><td><img src='GraphedRulesAssoc.png'></td></tr></table>"
      ],
      "text/plain": [
       "<IPython.core.display.HTML object>"
      ]
     },
     "metadata": {},
     "output_type": "display_data"
    }
   ],
   "source": [
    "display(HTML(\"<h2>Association Rules Visualisations</h2><table><tr><td><img src='ScatterPlotAssocRules.png'></td></tr><tr><td><img src='GraphedRulesAssoc.png'></td></tr></table>\"))"
   ]
  },
  {
   "cell_type": "markdown",
   "metadata": {},
   "source": [
    "Here are visual results of the association Rule mining. The first visualisation shows the top 10 rules sorted by confidence, grpahed against that rules support. For more on these metrics see Implementation section Association rules. The second visualisation shows how the differet objects are linked to each other. For example, an expected one is sugar jars, black tea and coffee being bought together. An unexpected one would be the grouping of wobbly chicken and wobbly rabbit toys being pruchased along with metal and decorations. This information can be used by a business to explore new opportunities to increase sales and revenues on certain items. "
   ]
  },
  {
   "cell_type": "markdown",
   "metadata": {},
   "source": [
    "## Computer Vision on Receipt Data\n",
    "\n",
    "One requirement of the project was to implement the a system where an image of a invoice or receipt is taken as an input. This image is examined using Computer Vision algorithms implemented through the Google Vision API. The textual data is extracted from the image to obtain key data about the data including:\n",
    "\n",
    "- The date of the transaction\n",
    "- The store/website where the transaction occured\n",
    "- The description, quantity and cost of each line item\n",
    "- the total amount of the transaction\n",
    "\n",
    "Here is an example of a couple of images taken from the Expressway receipt database:"
   ]
  },
  {
   "cell_type": "code",
   "execution_count": 27,
   "metadata": {},
   "outputs": [
    {
     "data": {
      "text/html": [
       "<h4>Sample of Receipt Images</h4><table><tr><td><img src='ReceiptImages/1001-receipt.jpg'></td><td><img src='ReceiptImages/1002-receipt.jpg'></td></tr></table>"
      ],
      "text/plain": [
       "<IPython.core.display.HTML object>"
      ]
     },
     "metadata": {},
     "output_type": "display_data"
    }
   ],
   "source": [
    "display(HTML(\"<h4>Sample of Receipt Images</h4><table><tr><td><img src='ReceiptImages/1001-receipt.jpg'></td><td><img src='ReceiptImages/1002-receipt.jpg'></td></tr></table>\"))"
   ]
  },
  {
   "cell_type": "markdown",
   "metadata": {},
   "source": [
    "These images illustrate a number of difficulties associated with creating a text extraction system which is both robust and scalable. While there are similarities between the structure of these receipts and similar data is shown, they are formatted in two distinct ways.\n",
    "The receipts themselves are placed in different points within each image. The second image has quite alot of noise in the background with the food behind the reciept. They also have different fonts for their logos; the 'Grand-Lux cafe' is drastically different to the 'Taco Bell' name in terms of where they are on the receipt as well as how they are presented visually. \n",
    "The Google Vision API can solve some of these issues by identifying the receipt itself as an object on the image, and subsequently identify the text within that object.\n",
    "Here is an example of how the Google Vision API can view the data:"
   ]
  },
  {
   "cell_type": "code",
   "execution_count": 35,
   "metadata": {
    "scrolled": true
   },
   "outputs": [
    {
     "data": {
      "text/html": [
       "<h4>Sample of Receipt Images</h4><table style='size: 150%'><tr><th>Image</th><th>Extracted Text</th></tr><tr><td><img src='Images/schuh.jpeg'></td><td><p> schuh</p><p>47-48 OConnell Street</p><p>Dublin, D01 PK22</p><p>TEL No: 01 2476147</p><p>VAT No: 8272987T</p><p>Cashier : 011: Sophie</p><p>Assistant : 011: Sophie</p><p>** Sale **</p><p>ADI GAZELLE</p><p>:3415691024506</p><p>Barcode</p><p>Size</p><p>: UK 11</p><p>Qty: 1 @ Price : €88.00</p><p>Less Discount Amount: €8.80</p><span>STUDENT CARD 10%</p><p>€79.20</p><p>** Sale **</p><p>CONS CTAS RENEW HI</p><p>: 3415955074506</p><p>: UK 11</p><p>Qty: 1 @ Price : €69.00</p><p>Less Discount Amount: €6.90</p><p>Barcode</p><p>Size</p><p>STUDENT CARD 10%</p><p>€62.10</p><p>** Sale **</p><p>SCHUH PATASOLE 11/12</p><p>: 7203210090011.</p><p>: One size</p><p>Qty: 1 @ Price : €3.75</p><p>Less Discount Amount: €0.38</p><p>Barcode</p><p>Size</p><p>STUDENT CARD 10%</p><p>€3.37</p><p>Total Amount:</p><p>€144.67</p><p>Amount Tendered:</p><p>€144.67</p><p>Change:</p><p>€0.00</p><p>Date: 27-1-2020</p><p>Time: 14:23:18</p></td></tr></table>"
      ],
      "text/plain": [
       "<IPython.core.display.HTML object>"
      ]
     },
     "metadata": {},
     "output_type": "display_data"
    }
   ],
   "source": [
    "display(HTML(\"<h4>Sample of Receipt Images</h4><table><tr><th>Image</th><th>Extracted Text</th></tr><tr><td><img src='Images/schuh.jpeg'></td><td><p> schuh</p><p>47-48 OConnell Street</p><p>Dublin, D01 PK22</p><p>TEL No: 01 2476147</p><p>VAT No: 8272987T</p><p>Cashier : 011: Sophie</p><p>Assistant : 011: Sophie</p><p>** Sale **</p><p>ADI GAZELLE</p><p>:3415691024506</p><p>Barcode</p><p>Size</p><p>: UK 11</p><p>Qty: 1 @ Price : €88.00</p><p>Less Discount Amount: €8.80</p><span>STUDENT CARD 10%</p><p>€79.20</p><p>** Sale **</p><p>CONS CTAS RENEW HI</p><p>: 3415955074506</p><p>: UK 11</p><p>Qty: 1 @ Price : €69.00</p><p>Less Discount Amount: €6.90</p><p>Barcode</p><p>Size</p><p>STUDENT CARD 10%</p><p>€62.10</p><p>** Sale **</p><p>SCHUH PATASOLE 11/12</p><p>: 7203210090011.</p><p>: One size</p><p>Qty: 1 @ Price : €3.75</p><p>Less Discount Amount: €0.38</p><p>Barcode</p><p>Size</p><p>STUDENT CARD 10%</p><p>€3.37</p><p>Total Amount:</p><p>€144.67</p><p>Amount Tendered:</p><p>€144.67</p><p>Change:</p><p>€0.00</p><p>Date: 27-1-2020</p><p>Time: 14:23:18</p></td></tr></table>\"))"
   ]
  },
  {
   "cell_type": "markdown",
   "metadata": {},
   "source": [
    "Note: See VisionReceiptImagesSystemTest.py for code that obtained text from Image using Google Cloud API\n",
    "\n",
    "The image here is quite a high quality email receipt. While this image sucessfully mines the text from the image to a very high degree of accuracy, it is in quite a unqiue format, as are most receipts. The difficulty here is to try and extract the specific data that was outlined as required earlier and to persist that data into a consistent schema. This is essential for proper analysis to be conducted on the data."
   ]
  },
  {
   "cell_type": "markdown",
   "metadata": {},
   "source": [
    "### Topic Modelling\n",
    "\n",
    "The textual description of the line items within the dataset can be used to create topic models on the data. These models will require a vectorised version of that textual data. This can be done through through TF-IDF and Count Vectorisation (see implementation section of report for details on these processes).\n",
    "\n",
    "The text will be first preprocessed to remove stopwords, turned to lower case, create bigrams, and lemmatize the text. These processes aid the unsupervised learning algorithms. The goal in the inital transformation of the data will be to simplify the text enough so that the algorithms can link different variations of a turn by examining their lemma, or simplest form word. (see lemmatization section in Implementation of the report).\n",
    "\n",
    "The training alogorithms then use the vectorised form of the text to create models. The algorithms which were used were:\n",
    "- Latent Dirichlet Allocation (suited for textual topic modelling)\n",
    "- Non Negative Matrix\n",
    "- KMeans \n",
    "- Self-Organised Maps\n",
    "\n",
    "The main findings of these algorthms wil be shown in the technical report. See below for an example of the LDA Model and a Visualisation of the Topics"
   ]
  },
  {
   "cell_type": "markdown",
   "metadata": {},
   "source": [
    "#### Latent Dirichlet Allocation"
   ]
  },
  {
   "cell_type": "code",
   "execution_count": 36,
   "metadata": {},
   "outputs": [
    {
     "name": "stdout",
     "output_type": "stream",
     "text": [
      "[['health', 'beauty']]\n",
      "[[(0, 1), (1, 1)]]\n"
     ]
    },
    {
     "data": {
      "text/plain": [
       "[[('beauty', 1), ('health', 1)]]"
      ]
     },
     "execution_count": 36,
     "metadata": {},
     "output_type": "execute_result"
    }
   ],
   "source": [
    "from nltk.corpus import stopwords\n",
    "stop_words = stopwords.words('english')\n",
    "stop_words.extend(['from', 'subject', 're', 'edu', 'use'])\n",
    "data = pd.read_csv('LineItemData.csv', encoding='utf-8')\n",
    "\n",
    "#print(data.head())\n",
    "\n",
    "data = data['Description'].dropna()\n",
    "\n",
    "#print(data.head())\n",
    "data = [re.sub('\\S*@\\S*\\s?', '', sent) for sent in data]\n",
    "data = [re.sub('\\s+', ' ', sent) for sent in data]\n",
    "data = [re.sub(\"\\'\", \"\", sent) for sent in data]\n",
    "#pprint(data[:1])\n",
    "\n",
    "def sent_to_words(sentences):\n",
    "    for sentence in sentences:\n",
    "                yield(gensim.utils.simple_preprocess(str(sentence), deacc=True))  # deacc=True removes punctuations\n",
    "\n",
    "data_words = list(sent_to_words(data))\n",
    "#print(data_words[:1])\n",
    "\n",
    "bigram = gensim.models.Phrases(data_words, min_count=5, threshold=100) # higher threshold fewer phrases.\n",
    "trigram = gensim.models.Phrases(bigram[data_words], threshold=100)  \n",
    "\n",
    "# Faster way to get a sentence clubbed as a trigram/bigram\n",
    "bigram_mod = gensim.models.phrases.Phraser(bigram)\n",
    "trigram_mod = gensim.models.phrases.Phraser(trigram)\n",
    "\n",
    "# See trigram example\n",
    "##print(trigram_mod[bigram_mod[data_words[0]]])\n",
    "\n",
    "# Define functions for stopwords, bigrams, trigrams and lemmatization\n",
    "def remove_stopwords(texts):\n",
    "    return [[word for word in simple_preprocess(str(doc)) if word not in stop_words] for doc in texts]\n",
    "\n",
    "def make_bigrams(texts):\n",
    "    return [bigram_mod[doc] for doc in texts]\n",
    "\n",
    "def make_trigrams(texts):\n",
    "    return [trigram_mod[bigram_mod[doc]] for doc in texts]\n",
    "\n",
    "def lemmatization(texts, allowed_postags=['NOUN', 'ADJ', 'VERB', 'ADV']):\n",
    "    \"\"\"https://spacy.io/api/annotation\"\"\"\n",
    "    texts_out = []\n",
    "    for sent in texts:\n",
    "        doc = nlp(\" \".join(sent)) \n",
    "        texts_out.append([token.lemma_ for token in doc if token.pos_ in allowed_postags])\n",
    "    return texts_out\n",
    "\n",
    "\n",
    "data_words_nostops = remove_stopwords(data_words)\n",
    "\n",
    "# Form Bigrams\n",
    "data_words_bigrams = make_bigrams(data_words_nostops)\n",
    "\n",
    "# Initialize spacy 'en' model, keeping only tagger component (for efficiency)\n",
    "# python3 -m spacy download en\n",
    "nlp = spacy.load('en_core_web_sm', disable=['parser', 'ner'])\n",
    "\n",
    "# Do lemmatization keeping only noun, adj, vb, adv\n",
    "data_lemmatized = lemmatization(data_words_bigrams, allowed_postags=['NOUN', 'ADJ', 'VERB', 'ADV'])\n",
    "\n",
    "print(data_lemmatized[:1])\n",
    "\n",
    "# Create Dictionary\n",
    "id2word = corpora.Dictionary(data_lemmatized)\n",
    "\n",
    "# Create Corpus\n",
    "texts = data_lemmatized\n",
    "\n",
    "# Term Document Frequency\n",
    "corpus = [id2word.doc2bow(text) for text in texts]\n",
    "\n",
    "# View\n",
    "print(corpus[:1])\n",
    "\n",
    "[[(id2word[id], freq) for id, freq in cp] for cp in corpus[:1]]"
   ]
  },
  {
   "cell_type": "code",
   "execution_count": 37,
   "metadata": {},
   "outputs": [
    {
     "name": "stdout",
     "output_type": "stream",
     "text": [
      "[(0,\n",
      "  '0.440*\"warm\" + 0.330*\"cover\" + 0.075*\"cushion\" + 0.026*\"cafe\" + '\n",
      "  '0.024*\"local\" + 0.020*\"honeycomb\" + 0.015*\"passport\" + 0.015*\"ball\" + '\n",
      "  '0.012*\"candy\" + 0.009*\"tropical\"'),\n",
      " (1,\n",
      "  '0.256*\"stamp\" + 0.230*\"stock\" + 0.101*\"asstd\" + 0.082*\"glider\" + '\n",
      "  '0.073*\"wish\" + 0.054*\"good\" + 0.047*\"stool\" + 0.033*\"pop\" + 0.033*\"monkey\" '\n",
      "  '+ 0.020*\"mum\"'),\n",
      " (2,\n",
      "  '0.572*\"home\" + 0.277*\"sweet\" + 0.107*\"fancy\" + 0.015*\"foot\" + 0.007*\"shelf\" '\n",
      "  '+ 0.005*\"carrier\" + 0.004*\"sheet\" + 0.000*\"hook\" + 0.000*\"welcome\" + '\n",
      "  '0.000*\"word\"'),\n",
      " (3,\n",
      "  '0.052*\"set\" + 0.038*\"heart\" + 0.032*\"vintage\" + 0.029*\"bag\" + '\n",
      "  '0.026*\"design\" + 0.024*\"light\" + 0.022*\"bottle\" + 0.021*\"hot\" + '\n",
      "  '0.020*\"water\" + 0.020*\"pink\"'),\n",
      " (4,\n",
      "  '0.211*\"food\" + 0.202*\"container\" + 0.198*\"charm\" + 0.150*\"raffia\" + '\n",
      "  '0.056*\"phone\" + 0.042*\"crystal\" + 0.027*\"frog\" + 0.022*\"summer\" + '\n",
      "  '0.022*\"daisie\" + 0.014*\"vine\"'),\n",
      " (5,\n",
      "  '0.201*\"tin\" + 0.104*\"calm\" + 0.077*\"travel\" + 0.064*\"kneel\" + 0.059*\"tube\" '\n",
      "  '+ 0.054*\"gardener\" + 0.039*\"craft\" + 0.031*\"play\" + 0.031*\"wallet\" + '\n",
      "  '0.030*\"animal\"'),\n",
      " (6,\n",
      "  '0.054*\"metal\" + 0.050*\"small\" + 0.046*\"sign\" + 0.030*\"candle\" + '\n",
      "  '0.027*\"ceramic\" + 0.026*\"rise\" + 0.025*\"ribbon\" + 0.021*\"chocolate\" + '\n",
      "  '0.021*\"traditional\" + 0.018*\"birthday\"'),\n",
      " (7,\n",
      "  '0.232*\"game\" + 0.190*\"stick\" + 0.077*\"pick\" + 0.074*\"feltcraft\" + '\n",
      "  '0.062*\"tail\" + 0.062*\"head\" + 0.059*\"mice\" + 0.059*\"stripey\" + 0.045*\"door\" '\n",
      "  '+ 0.044*\"donkey\"')]\n",
      "\n",
      "Perplexity:  -5.730547804118124\n",
      "\n",
      "Coherence Score:  -17.61491305349648\n"
     ]
    }
   ],
   "source": [
    "# Build LDA model\n",
    "lda_model = gensim.models.ldamodel.LdaModel(corpus=corpus,\n",
    "                                           id2word=id2word,\n",
    "                                           num_topics=8, \n",
    "                                           random_state=100,\n",
    "                                           update_every=1,\n",
    "                                           chunksize=100,\n",
    "                                           passes=10,\n",
    "                                           alpha='auto',\n",
    "                                           per_word_topics=True)\n",
    "\n",
    "pprint(lda_model.print_topics())\n",
    "doc_lda = lda_model[corpus]\n",
    "\n",
    "# Compute Perplexity\n",
    "print('\\nPerplexity: ', lda_model.log_perplexity(corpus))  # a measure of how good the model is. lower the better.\n",
    "\n",
    "# Compute Coherence Score\n",
    "coherence_model_lda = CoherenceModel(model=lda_model, texts=data_lemmatized, dictionary=id2word, coherence='u_mass')\n",
    "coherence_lda = coherence_model_lda.get_coherence()\n",
    "print('\\nCoherence Score: ', coherence_lda)"
   ]
  },
  {
   "cell_type": "code",
   "execution_count": 38,
   "metadata": {},
   "outputs": [
    {
     "data": {
      "text/html": [
       "\n",
       "<link rel=\"stylesheet\" type=\"text/css\" href=\"https://cdn.rawgit.com/bmabey/pyLDAvis/files/ldavis.v1.0.0.css\">\n",
       "\n",
       "\n",
       "<div id=\"ldavis_el494418325913370567509328347\"></div>\n",
       "<script type=\"text/javascript\">\n",
       "\n",
       "var ldavis_el494418325913370567509328347_data = {\"mdsDat\": {\"x\": [0.2573325152830197, -0.10770099635635508, -0.3609541702512775, -0.055019884394272967, 0.009947110450626661, 0.008294610490221786, 0.11882774574325725, 0.12927306903478022], \"y\": [-0.19046335316700103, 0.3860491279747857, -0.22720879527815893, -0.022769526696863357, -0.0020190391890768373, -0.002863051776494028, 0.028073072413109287, 0.031201565719699263], \"topics\": [1, 2, 3, 4, 5, 6, 7, 8], \"cluster\": [1, 1, 1, 1, 1, 1, 1, 1], \"Freq\": [71.2398910522461, 21.46541404724121, 3.8540258407592773, 1.0406088829040527, 0.8344623446464539, 0.6830782890319824, 0.4471956789493561, 0.435319185256958]}, \"tinfo\": {\"Term\": [\"tin\", \"home\", \"warm\", \"metal\", \"small\", \"cover\", \"sign\", \"calm\", \"set\", \"sweet\", \"candle\", \"travel\", \"ceramic\", \"heart\", \"rise\", \"ribbon\", \"kneel\", \"game\", \"vintage\", \"tube\", \"chocolate\", \"bag\", \"traditional\", \"gardener\", \"stick\", \"stamp\", \"design\", \"birthday\", \"notebook\", \"light\", \"set\", \"heart\", \"vintage\", \"bag\", \"design\", \"light\", \"bottle\", \"hot\", \"water\", \"pink\", \"card\", \"jumbo\", \"red\", \"box\", \"cake\", \"hang\", \"holder\", \"tea\", \"wooden\", \"kit\", \"love\", \"case\", \"large\", \"paper\", \"decoration\", \"lunch\", \"pack\", \"retrospot\", \"dolly\", \"hand\", \"metal\", \"small\", \"sign\", \"candle\", \"ceramic\", \"rise\", \"ribbon\", \"chocolate\", \"traditional\", \"birthday\", \"notebook\", \"trinket\", \"wrap\", \"pot\", \"wicker\", \"roll\", \"rabbit\", \"owl\", \"wood\", \"spot\", \"dinner\", \"flower\", \"french\", \"letter\", \"egg\", \"doorstop\", \"top\", \"slate\", \"fry\", \"ring\", \"tin\", \"calm\", \"travel\", \"kneel\", \"tube\", \"gardener\", \"craft\", \"play\", \"wallet\", \"animal\", \"plaster\", \"woodland\", \"king\", \"giant\", \"match\", \"tall\", \"purse\", \"come\", \"little\", \"friend\", \"feel\", \"coat\", \"housework\", \"first\", \"ticket\", \"aid\", \"choice\", \"transport\", \"cigar\", \"monster\", \"warm\", \"cover\", \"cushion\", \"cafe\", \"local\", \"honeycomb\", \"passport\", \"ball\", \"candy\", \"tropical\", \"weave\", \"class\", \"floor\", \"stitch\", \"seat\", \"provencal\", \"peony\", \"hare\", \"oriental\", \"canary\", \"singing\", \"utilty\", \"guitar\", \"wallhange\", \"problem\", \"allium\", \"break\", \"windsock\", \"doll\", \"live\", \"beauty\", \"yuletide\", \"bdraw_liner\", \"heaven\", \"polka\", \"dot\", \"petal\", \"bouquet\", \"sea\", \"incorrectly\", \"cherry\", \"thrown_away\", \"iron\", \"office\", \"record\", \"hand\", \"owl\", \"fan\", \"square\", \"bead\", \"design\", \"funky\", \"home\", \"sweet\", \"fancy\", \"foot\", \"shelf\", \"carrier\", \"sheet\", \"cannister\", \"scroll\", \"amethyst\", \"bertie\", \"swinging\", \"choker\", \"demi\", \"opulent\", \"advent\", \"woolly\", \"velvet\", \"sheep\", \"fruitbowl\", \"fluffy\", \"desk\", \"boudoir\", \"scrap\", \"highlighter\", \"russel\", \"old\", \"tone\", \"butterfl\", \"chunky\", \"hook\", \"welcome\", \"building\", \"word\", \"font\", \"blue\", \"doormat\", \"magnet\", \"stool\", \"block\", \"pack\", \"key\", \"birthday\", \"card\", \"hang\", \"sign\", \"metal\", \"heart\", \"wrap\", \"holder\", \"bottle\", \"cake\", \"tier\", \"game\", \"stick\", \"pick\", \"feltcraft\", \"head\", \"tail\", \"mice\", \"stripey\", \"door\", \"donkey\", \"cabinet\", \"back\", \"shoulder\", \"suede\", \"medicine\", \"blossom\", \"fun\", \"sport\", \"yuletide\", \"beauty\", \"live\", \"bdraw_liner\", \"break\", \"canary\", \"singing\", \"wallhange\", \"problem\", \"guitar\", \"dotcomgiftshop\", \"album\", \"traditional\", \"floral\", \"card\", \"vintage\", \"chalk\", \"kid\", \"wood\", \"drawer\", \"key\", \"set\", \"pink\", \"bag\", \"stamp\", \"stock\", \"asstd\", \"glider\", \"wish\", \"good\", \"stool\", \"pop\", \"monkey\", \"mum\", \"circle\", \"racing\", \"icon\", \"aluminium\", \"operate\", \"battery\", \"toast\", \"elvi\", \"multicolour\", \"triangle\", \"dad\", \"doll\", \"yuletide\", \"live\", \"guitar\", \"bdraw_liner\", \"break\", \"canary\", \"singing\", \"beauty\", \"wood\", \"funky\", \"mobile\", \"pen\", \"happy\", \"car\", \"design\", \"set\", \"box\", \"pocket\", \"coloured\", \"flower\", \"food\", \"container\", \"charm\", \"raffia\", \"phone\", \"crystal\", \"frog\", \"daisie\", \"summer\", \"vine\", \"sponge\", \"polka\", \"dot\", \"drink\", \"brass\", \"heaven\", \"delivery\", \"bouquet\", \"album\", \"champagne\", \"live\", \"bdraw_liner\", \"dad\", \"yuletide\", \"guitar\", \"break\", \"fragrance\", \"crush\", \"riviera\", \"canary\", \"necklace\", \"singing\", \"doll\", \"beauty\", \"bead\", \"horse\", \"bracelet\", \"piece\", \"ribbon\", \"fruit\", \"round\", \"party\", \"leave\", \"vintage\", \"sticker\", \"love\", \"bag\", \"white\", \"retrospot\"], \"Freq\": [10028.0, 6172.0, 5915.0, 14906.0, 13751.0, 4437.0, 12647.0, 5190.0, 47463.0, 2989.0, 8463.0, 3828.0, 7609.0, 34556.0, 7332.0, 6891.0, 3166.0, 2050.0, 29126.0, 2950.0, 5961.0, 26782.0, 5775.0, 2674.0, 1676.0, 1480.0, 24305.0, 5025.0, 4898.0, 22365.0, 47462.9140625, 34555.453125, 29125.712890625, 26781.869140625, 24304.486328125, 22364.921875, 20465.47265625, 18983.65234375, 18327.05859375, 18282.876953125, 17962.013671875, 15171.52734375, 14834.42578125, 14485.1630859375, 13707.787109375, 12453.751953125, 12067.26171875, 11857.935546875, 11335.68359375, 10575.982421875, 10432.01171875, 9965.333984375, 9728.423828125, 9549.0244140625, 9452.2109375, 8762.271484375, 8132.30126953125, 7864.58544921875, 7473.12646484375, 7188.2451171875, 14905.2001953125, 13750.3408203125, 12646.77734375, 8463.0810546875, 7608.54638671875, 7332.02197265625, 6890.65625, 5960.31689453125, 5774.22021484375, 5024.58154296875, 4897.83984375, 4751.4296875, 4620.89404296875, 4195.20654296875, 3678.365234375, 3579.034423828125, 3413.26123046875, 3291.197021484375, 3290.697265625, 3221.633544921875, 3124.11083984375, 3096.576416015625, 2943.328125, 2907.73583984375, 2753.090576171875, 2633.97607421875, 2582.24560546875, 2567.33837890625, 2522.871826171875, 2510.614013671875, 10027.5498046875, 5190.12109375, 3827.603271484375, 3165.55810546875, 2949.873046875, 2673.21875, 1957.5572509765625, 1529.126220703125, 1524.466552734375, 1508.8480224609375, 1334.1722412109375, 1248.2911376953125, 1213.3819580078125, 1179.939453125, 1093.4425048828125, 914.9146728515625, 815.626708984375, 814.1188354492188, 755.5099487304688, 647.0427856445312, 636.9579467773438, 621.7421264648438, 492.4457092285156, 466.85443115234375, 398.28851318359375, 344.9977111816406, 337.8214111328125, 287.9566955566406, 274.8837890625, 260.3084411621094, 5914.18212890625, 4436.8271484375, 1010.1580810546875, 348.115234375, 317.8572692871094, 269.7716064453125, 199.8311309814453, 195.4733123779297, 158.8782501220703, 126.21239471435547, 114.83145141601562, 107.07791900634766, 57.8533821105957, 29.48881721496582, 20.424169540405273, 14.040140151977539, 0.4789513349533081, 0.10759874433279037, 0.10749822109937668, 0.10748999565839767, 0.10748999565839767, 0.10748999565839767, 0.10748999565839767, 0.10748999565839767, 0.10748999565839767, 0.10748999565839767, 0.10748999565839767, 0.10748999565839767, 0.10748999565839767, 0.10748999565839767, 0.10748999565839767, 0.10748999565839767, 0.10748999565839767, 0.10748999565839767, 0.1580170840024948, 0.1580170840024948, 0.10748999565839767, 0.10748999565839767, 0.10748999565839767, 0.10748999565839767, 0.11437824368476868, 0.10748999565839767, 0.1109548956155777, 0.10984723269939423, 0.10970284044742584, 0.10952142626047134, 0.10914530605077744, 0.10881989449262619, 0.10866870731115341, 0.10855106264352798, 0.10811829566955566, 0.10807238519191742, 6172.03076171875, 2988.617431640625, 1150.761962890625, 158.1600799560547, 70.53693389892578, 54.26967239379883, 46.63014221191406, 0.1188616082072258, 0.1188616082072258, 0.1188616082072258, 0.1188616082072258, 0.1188616082072258, 0.1188616082072258, 0.1188616082072258, 0.1188616082072258, 0.1188616082072258, 0.1188616082072258, 0.1188616082072258, 0.1188616082072258, 0.1188616082072258, 0.1188616082072258, 0.1188616082072258, 0.1188616082072258, 0.1188616082072258, 0.1188616082072258, 0.1188616082072258, 0.1188616082072258, 0.1188616082072258, 0.1188616082072258, 0.1188616082072258, 0.12181934714317322, 0.12139873951673508, 0.12077496945858002, 0.12077496945858002, 0.12060999125242233, 0.12040417641401291, 0.12020516395568848, 0.12001785635948181, 0.11978253722190857, 0.11959308385848999, 0.11954165250062943, 0.11915483325719833, 0.11909820884466171, 0.11904236674308777, 0.1190139502286911, 0.11895272135734558, 0.11893840879201889, 0.118929922580719, 0.1189226433634758, 0.11891589313745499, 0.11891277879476547, 0.11890558153390884, 0.1188618540763855, 2049.81982421875, 1675.9599609375, 683.4793701171875, 655.3089599609375, 543.8911743164062, 543.8936157226562, 524.8787841796875, 524.8787841796875, 399.6949768066406, 385.8457946777344, 363.8696594238281, 233.86358642578125, 130.51834106445312, 1.478200078010559, 0.21512259542942047, 0.13766144216060638, 0.09459786862134933, 0.09459786862134933, 0.0922180563211441, 0.0922180563211441, 0.0922180563211441, 0.0922180563211441, 0.0922180563211441, 0.0922180563211441, 0.0922180563211441, 0.0922180563211441, 0.0922180563211441, 0.0922180563211441, 0.0922180563211441, 0.0922180563211441, 0.09450146555900574, 0.09318127483129501, 0.092816062271595, 0.0927857756614685, 0.09275580197572708, 0.09266761690378189, 0.09250170737504959, 0.09249605983495712, 0.09249477833509445, 0.09229130297899246, 0.09227313101291656, 0.09225340932607651, 1479.483154296875, 1331.354736328125, 584.6703491210938, 473.88568115234375, 424.24774169921875, 312.3407287597656, 271.03082275390625, 190.57931518554688, 189.61514282226562, 114.91326141357422, 81.08824920654297, 55.815311431884766, 45.868492126464844, 37.43312072753906, 10.3971529006958, 10.3971529006958, 3.317189931869507, 0.34953129291534424, 0.13383151590824127, 0.13374488055706024, 0.13374389708042145, 0.1337437629699707, 0.13374364376068115, 0.13374364376068115, 0.13374364376068115, 0.13374364376068115, 0.13374364376068115, 0.13374364376068115, 0.13374364376068115, 0.13374364376068115, 0.1464833915233612, 0.13670097291469574, 0.13649512827396393, 0.13574965298175812, 0.13493290543556213, 0.13475075364112854, 0.134605273604393, 0.13450369238853455, 0.13427312672138214, 0.13413675129413605, 0.13412624597549438, 0.13410690426826477, 1187.2227783203125, 1135.67529296875, 1117.040771484375, 844.6679077148438, 314.224853515625, 235.8415069580078, 154.40797424316406, 125.13418579101562, 125.13418579101562, 78.74288940429688, 36.698692321777344, 33.10219192504883, 33.10219192504883, 18.734041213989258, 0.1522752344608307, 0.1522752046585083, 0.1522752046585083, 0.1522752046585083, 0.1522752046585083, 0.1522752046585083, 0.1522752046585083, 0.1522752046585083, 0.1522752046585083, 0.1522752046585083, 0.1522752046585083, 0.1522752046585083, 0.1522752046585083, 0.1522752046585083, 0.1522752046585083, 0.1522752046585083, 0.16337712109088898, 0.1522752046585083, 0.1522752046585083, 0.1522752046585083, 0.15822957456111908, 0.15457500517368317, 0.15438516438007355, 0.15436077117919922, 0.1537100076675415, 0.15361936390399933, 0.1534142792224884, 0.15324877202510834, 0.15322962403297424, 0.15308105945587158, 0.1530577689409256, 0.15277846157550812, 0.15274250507354736, 0.15259259939193726, 0.15255902707576752], \"Total\": [10028.0, 6172.0, 5915.0, 14906.0, 13751.0, 4437.0, 12647.0, 5190.0, 47463.0, 2989.0, 8463.0, 3828.0, 7609.0, 34556.0, 7332.0, 6891.0, 3166.0, 2050.0, 29126.0, 2950.0, 5961.0, 26782.0, 5775.0, 2674.0, 1676.0, 1480.0, 24305.0, 5025.0, 4898.0, 22365.0, 47463.765625, 34556.3046875, 29126.5703125, 26782.72265625, 24305.341796875, 22365.775390625, 20466.326171875, 18984.505859375, 18327.912109375, 18283.73046875, 17962.87109375, 15172.3798828125, 14835.2783203125, 14486.0166015625, 13708.640625, 12454.6044921875, 12068.1142578125, 11858.7890625, 11336.5361328125, 10576.8349609375, 10432.8642578125, 9966.1865234375, 9729.2763671875, 9549.876953125, 9453.0634765625, 8763.1240234375, 8133.1552734375, 7865.43896484375, 7473.9794921875, 7189.10009765625, 14906.05078125, 13751.19140625, 12647.6279296875, 8463.931640625, 7609.3974609375, 7332.87353515625, 6891.5087890625, 5961.16845703125, 5775.07373046875, 5025.43310546875, 4898.69091796875, 4752.28125, 4621.74560546875, 4196.0576171875, 3679.216552734375, 3579.8857421875, 3414.11279296875, 3292.050048828125, 3291.561767578125, 3222.485107421875, 3124.962158203125, 3097.42822265625, 2944.179931640625, 2908.587158203125, 2753.942138671875, 2634.827392578125, 2583.096923828125, 2568.189697265625, 2523.72314453125, 2511.465576171875, 10028.404296875, 5190.9755859375, 3828.458251953125, 3166.4130859375, 2950.72802734375, 2674.07373046875, 1958.412109375, 1529.98095703125, 1525.3212890625, 1509.7027587890625, 1335.0269775390625, 1249.1458740234375, 1214.2366943359375, 1180.794189453125, 1094.2972412109375, 915.7694091796875, 816.4814453125, 814.9735107421875, 756.3646240234375, 647.8974609375, 637.8126831054688, 622.5968017578125, 493.30047607421875, 467.70965576171875, 399.1432800292969, 345.8524475097656, 338.6761779785156, 288.81146240234375, 275.7386169433594, 261.1631774902344, 5915.0517578125, 4437.69677734375, 1011.0277099609375, 348.98492431640625, 318.7269592285156, 270.6413269042969, 200.7008056640625, 196.34298706054688, 159.74795532226562, 127.08203887939453, 115.70109558105469, 107.94779205322266, 58.72306823730469, 30.362361907958984, 21.293827056884766, 14.909836769104004, 1.3486007452011108, 0.9772453308105469, 0.9771449565887451, 0.9771366119384766, 0.9771366119384766, 0.9771366119384766, 0.9771366119384766, 0.9771366119384766, 0.9771366119384766, 0.9771366119384766, 0.9771366119384766, 0.9771366119384766, 0.9771367311477661, 0.9771366119384766, 0.9771366119384766, 0.9771366119384766, 0.9771366119384766, 0.9771366119384766, 33.97834014892578, 33.97834014892578, 0.9771366119384766, 0.9771366119384766, 0.9771366119384766, 0.9771366119384766, 106.9569091796875, 0.9771366119384766, 539.0261840820312, 838.3733520507812, 1203.8702392578125, 7189.10009765625, 3292.050048828125, 489.2274169921875, 364.43829345703125, 625.81005859375, 24305.341796875, 977.2550659179688, 6172.88916015625, 2989.475830078125, 1151.6202392578125, 159.01846313476562, 71.39521026611328, 55.12796401977539, 47.4884147644043, 0.9771366119384766, 0.9771366119384766, 0.9771366119384766, 0.9771366119384766, 0.9771366119384766, 0.9771366119384766, 0.9771366119384766, 0.9771366119384766, 0.9771366119384766, 0.9771366119384766, 0.9771366119384766, 0.9771367907524109, 0.9771366119384766, 0.9771367311477661, 0.9771366119384766, 0.9771366119384766, 0.9771366119384766, 0.9771366119384766, 0.9771366119384766, 0.9771366119384766, 0.9771366119384766, 0.9771366119384766, 0.9771366119384766, 1639.2421875, 422.592529296875, 874.9953002929688, 874.9953002929688, 1069.3046875, 6250.89111328125, 1503.8089599609375, 2450.970947265625, 271.8751525878906, 2115.835693359375, 8133.1552734375, 2242.91943359375, 5025.43310546875, 17962.87109375, 12454.6044921875, 12647.6279296875, 14906.05078125, 34556.3046875, 4621.74560546875, 12068.1142578125, 20466.326171875, 13708.640625, 2768.86279296875, 2050.704833984375, 1676.8448486328125, 684.3642578125, 656.19384765625, 544.7760620117188, 544.7785034179688, 525.763671875, 525.763671875, 400.5799255371094, 386.7307434082031, 364.7546081542969, 234.74851989746094, 131.4032745361328, 2.363138198852539, 1.1059925556182861, 1.0225803852081299, 0.9795164465904236, 0.9795164465904236, 0.9771366119384766, 0.9771366119384766, 0.9771366119384766, 0.9771366119384766, 0.9771366119384766, 0.9771366119384766, 0.9771366119384766, 0.9771366119384766, 0.9771366119384766, 0.9771366119384766, 0.9771366119384766, 0.9771366119384766, 5775.07373046875, 1084.5472412109375, 17962.87109375, 29126.5703125, 466.3875427246094, 648.926025390625, 3291.561767578125, 1737.452880859375, 2242.91943359375, 47463.765625, 18283.73046875, 26782.72265625, 1480.3265380859375, 1332.1981201171875, 585.5137329101562, 474.7290954589844, 425.0911560058594, 313.18414306640625, 271.8751525878906, 191.4227294921875, 190.45855712890625, 115.75666809082031, 81.93164825439453, 56.65870666503906, 46.711883544921875, 38.27651596069336, 11.240545272827148, 11.240545272827148, 4.160582542419434, 1.1949297189712524, 0.977224588394165, 0.9771378636360168, 0.9771368503570557, 0.9771367311477661, 0.9771366119384766, 0.9771366119384766, 0.9771366119384766, 0.9771366119384766, 0.9771366119384766, 0.9771366119384766, 0.9771366119384766, 0.9771366119384766, 3291.561767578125, 977.2550659179688, 277.9483947753906, 480.1378173828125, 555.2073364257812, 723.6110229492188, 24305.341796875, 47463.765625, 14486.0166015625, 980.757080078125, 602.7059936523438, 3097.42822265625, 1188.047607421875, 1136.5001220703125, 1117.8656005859375, 845.4927978515625, 315.0497131347656, 236.6663818359375, 155.2328338623047, 125.95905303955078, 125.95905303955078, 79.5677719116211, 37.523902893066406, 33.97834014892578, 33.97834014892578, 19.559249877929688, 0.9771366119384766, 0.9771366119384766, 0.9771366119384766, 0.9771366119384766, 0.9771366119384766, 0.9771366119384766, 0.9771366119384766, 0.9771366119384766, 0.9771368503570557, 0.9771366119384766, 0.9771366119384766, 0.9771366119384766, 0.9771366119384766, 0.9771366119384766, 0.9771366119384766, 0.9771366119384766, 101.66009521484375, 0.9771366119384766, 0.9771367311477661, 0.9771366119384766, 625.81005859375, 1831.40185546875, 1412.58740234375, 1499.38818359375, 6891.5087890625, 703.4293823242188, 2337.4111328125, 3089.657470703125, 966.8963623046875, 29126.5703125, 1748.5423583984375, 10432.8642578125, 26782.72265625, 5800.177734375, 7865.43896484375], \"Category\": [\"Default\", \"Default\", \"Default\", \"Default\", \"Default\", \"Default\", \"Default\", \"Default\", \"Default\", \"Default\", \"Default\", \"Default\", \"Default\", \"Default\", \"Default\", \"Default\", \"Default\", \"Default\", \"Default\", \"Default\", \"Default\", \"Default\", \"Default\", \"Default\", \"Default\", \"Default\", \"Default\", \"Default\", \"Default\", \"Default\", \"Topic1\", \"Topic1\", \"Topic1\", \"Topic1\", \"Topic1\", \"Topic1\", \"Topic1\", \"Topic1\", \"Topic1\", \"Topic1\", \"Topic1\", \"Topic1\", \"Topic1\", \"Topic1\", \"Topic1\", \"Topic1\", \"Topic1\", \"Topic1\", \"Topic1\", \"Topic1\", \"Topic1\", \"Topic1\", \"Topic1\", \"Topic1\", \"Topic1\", \"Topic1\", \"Topic1\", \"Topic1\", \"Topic1\", \"Topic1\", \"Topic2\", \"Topic2\", \"Topic2\", \"Topic2\", \"Topic2\", \"Topic2\", \"Topic2\", \"Topic2\", \"Topic2\", \"Topic2\", \"Topic2\", \"Topic2\", \"Topic2\", \"Topic2\", \"Topic2\", \"Topic2\", \"Topic2\", \"Topic2\", \"Topic2\", \"Topic2\", \"Topic2\", \"Topic2\", \"Topic2\", \"Topic2\", \"Topic2\", \"Topic2\", \"Topic2\", \"Topic2\", \"Topic2\", \"Topic2\", \"Topic3\", \"Topic3\", \"Topic3\", \"Topic3\", \"Topic3\", \"Topic3\", \"Topic3\", \"Topic3\", \"Topic3\", \"Topic3\", \"Topic3\", \"Topic3\", \"Topic3\", \"Topic3\", \"Topic3\", \"Topic3\", \"Topic3\", \"Topic3\", \"Topic3\", \"Topic3\", \"Topic3\", \"Topic3\", \"Topic3\", \"Topic3\", \"Topic3\", \"Topic3\", \"Topic3\", \"Topic3\", \"Topic3\", \"Topic3\", \"Topic4\", \"Topic4\", \"Topic4\", \"Topic4\", \"Topic4\", \"Topic4\", \"Topic4\", \"Topic4\", \"Topic4\", \"Topic4\", \"Topic4\", \"Topic4\", \"Topic4\", \"Topic4\", \"Topic4\", \"Topic4\", \"Topic4\", \"Topic4\", \"Topic4\", \"Topic4\", \"Topic4\", \"Topic4\", \"Topic4\", \"Topic4\", \"Topic4\", \"Topic4\", \"Topic4\", \"Topic4\", \"Topic4\", \"Topic4\", \"Topic4\", \"Topic4\", \"Topic4\", \"Topic4\", \"Topic4\", \"Topic4\", \"Topic4\", \"Topic4\", \"Topic4\", \"Topic4\", \"Topic4\", \"Topic4\", \"Topic4\", \"Topic4\", \"Topic4\", \"Topic4\", \"Topic4\", \"Topic4\", \"Topic4\", \"Topic4\", \"Topic4\", \"Topic4\", \"Topic5\", \"Topic5\", \"Topic5\", \"Topic5\", \"Topic5\", \"Topic5\", \"Topic5\", \"Topic5\", \"Topic5\", \"Topic5\", \"Topic5\", \"Topic5\", \"Topic5\", \"Topic5\", \"Topic5\", \"Topic5\", \"Topic5\", \"Topic5\", \"Topic5\", \"Topic5\", \"Topic5\", \"Topic5\", \"Topic5\", \"Topic5\", \"Topic5\", \"Topic5\", \"Topic5\", \"Topic5\", \"Topic5\", \"Topic5\", \"Topic5\", \"Topic5\", \"Topic5\", \"Topic5\", \"Topic5\", \"Topic5\", \"Topic5\", \"Topic5\", \"Topic5\", \"Topic5\", \"Topic5\", \"Topic5\", \"Topic5\", \"Topic5\", \"Topic5\", \"Topic5\", \"Topic5\", \"Topic5\", \"Topic5\", \"Topic5\", \"Topic5\", \"Topic5\", \"Topic5\", \"Topic6\", \"Topic6\", \"Topic6\", \"Topic6\", \"Topic6\", \"Topic6\", \"Topic6\", \"Topic6\", \"Topic6\", \"Topic6\", \"Topic6\", \"Topic6\", \"Topic6\", \"Topic6\", \"Topic6\", \"Topic6\", \"Topic6\", \"Topic6\", \"Topic6\", \"Topic6\", \"Topic6\", \"Topic6\", \"Topic6\", \"Topic6\", \"Topic6\", \"Topic6\", \"Topic6\", \"Topic6\", \"Topic6\", \"Topic6\", \"Topic6\", \"Topic6\", \"Topic6\", \"Topic6\", \"Topic6\", \"Topic6\", \"Topic6\", \"Topic6\", \"Topic6\", \"Topic6\", \"Topic6\", \"Topic6\", \"Topic7\", \"Topic7\", \"Topic7\", \"Topic7\", \"Topic7\", \"Topic7\", \"Topic7\", \"Topic7\", \"Topic7\", \"Topic7\", \"Topic7\", \"Topic7\", \"Topic7\", \"Topic7\", \"Topic7\", \"Topic7\", \"Topic7\", \"Topic7\", \"Topic7\", \"Topic7\", \"Topic7\", \"Topic7\", \"Topic7\", \"Topic7\", \"Topic7\", \"Topic7\", \"Topic7\", \"Topic7\", \"Topic7\", \"Topic7\", \"Topic7\", \"Topic7\", \"Topic7\", \"Topic7\", \"Topic7\", \"Topic7\", \"Topic7\", \"Topic7\", \"Topic7\", \"Topic7\", \"Topic7\", \"Topic7\", \"Topic8\", \"Topic8\", \"Topic8\", \"Topic8\", \"Topic8\", \"Topic8\", \"Topic8\", \"Topic8\", \"Topic8\", \"Topic8\", \"Topic8\", \"Topic8\", \"Topic8\", \"Topic8\", \"Topic8\", \"Topic8\", \"Topic8\", \"Topic8\", \"Topic8\", \"Topic8\", \"Topic8\", \"Topic8\", \"Topic8\", \"Topic8\", \"Topic8\", \"Topic8\", \"Topic8\", \"Topic8\", \"Topic8\", \"Topic8\", \"Topic8\", \"Topic8\", \"Topic8\", \"Topic8\", \"Topic8\", \"Topic8\", \"Topic8\", \"Topic8\", \"Topic8\", \"Topic8\", \"Topic8\", \"Topic8\", \"Topic8\", \"Topic8\", \"Topic8\", \"Topic8\", \"Topic8\", \"Topic8\", \"Topic8\"], \"logprob\": [30.0, 29.0, 28.0, 27.0, 26.0, 25.0, 24.0, 23.0, 22.0, 21.0, 20.0, 19.0, 18.0, 17.0, 16.0, 15.0, 14.0, 13.0, 12.0, 11.0, 10.0, 9.0, 8.0, 7.0, 6.0, 5.0, 4.0, 3.0, 2.0, 1.0, -2.96560001373291, -3.2829999923706055, -3.453900098800659, -3.5378000736236572, -3.6349000930786133, -3.718100070953369, -3.80679988861084, -3.881999969482422, -3.9172000885009766, -3.919600009918213, -3.937299966812134, -4.106100082397461, -4.128600120544434, -4.152400016784668, -4.207600116729736, -4.303500175476074, -4.335100173950195, -4.35260009765625, -4.397600173950195, -4.4670000076293945, -4.4807000160217285, -4.526400089263916, -4.55049991607666, -4.5690999031066895, -4.5792999267578125, -4.655099868774414, -4.729700088500977, -4.763199806213379, -4.814199924468994, -4.853099822998047, -2.9242000579833984, -3.0048999786376953, -3.0885000228881836, -3.4902000427246094, -3.5966999530792236, -3.633699893951416, -3.6958000659942627, -3.8408000469207764, -3.872499942779541, -4.011600017547607, -4.037199974060059, -4.067500114440918, -4.095399856567383, -4.191999912261963, -4.323500156402588, -4.350900173187256, -4.3983001708984375, -4.434700012207031, -4.434899806976318, -4.456099987030029, -4.486800193786621, -4.495699882507324, -4.54640007019043, -4.558599948883057, -4.6132001876831055, -4.65749979019165, -4.677299976348877, -4.68310022354126, -4.7006001472473145, -4.705399990081787, -1.6032999753952026, -2.261899948120117, -2.5664000511169434, -2.7562999725341797, -2.826900005340576, -2.925299882888794, -3.2369000911712646, -3.4839000701904297, -3.486999988555908, -3.497299909591675, -3.620300054550171, -3.686800003051758, -3.7151999473571777, -3.7432000637054443, -3.8192999362945557, -3.997499942779541, -4.112400054931641, -4.114299774169922, -4.189000129699707, -4.343999862670898, -4.3597002029418945, -4.383900165557861, -4.617000102996826, -4.670400142669678, -4.82919979095459, -4.972799777984619, -4.993899822235107, -5.153600215911865, -5.199999809265137, -5.254499912261963, -0.8220000267028809, -1.1094000339508057, -2.589200019836426, -3.6545000076293945, -3.745500087738037, -3.9094998836517334, -4.20959997177124, -4.231599807739258, -4.438899993896484, -4.669099807739258, -4.763599872589111, -4.833499908447266, -5.44920015335083, -6.1230998039245605, -6.490300178527832, -6.865099906921387, -10.243200302124023, -11.73639965057373, -11.737299919128418, -11.73740005493164, -11.73740005493164, -11.73740005493164, -11.73740005493164, -11.73740005493164, -11.73740005493164, -11.73740005493164, -11.73740005493164, -11.73740005493164, -11.73740005493164, -11.73740005493164, -11.73740005493164, -11.73740005493164, -11.73740005493164, -11.73740005493164, -11.352100372314453, -11.352100372314453, -11.73740005493164, -11.73740005493164, -11.73740005493164, -11.73740005493164, -11.675299644470215, -11.73740005493164, -11.705699920654297, -11.715700149536133, -11.717000007629395, -11.718700408935547, -11.722100257873535, -11.725099563598633, -11.726499557495117, -11.72760009765625, -11.731599807739258, -11.732000350952148, -0.5584999918937683, -1.2836999893188477, -2.238100051879883, -4.222700119018555, -5.030200004577637, -5.292300224304199, -5.443999767303467, -11.416099548339844, -11.416099548339844, -11.416099548339844, -11.416099548339844, -11.416099548339844, -11.416099548339844, -11.416099548339844, -11.416099548339844, -11.416099548339844, -11.416099548339844, -11.416099548339844, -11.416099548339844, -11.416099548339844, -11.416099548339844, -11.416099548339844, -11.416099548339844, -11.416099548339844, -11.416099548339844, -11.416099548339844, -11.416099548339844, -11.416099548339844, -11.416099548339844, -11.416099548339844, -11.391500473022461, -11.395000457763672, -11.400099754333496, -11.400099754333496, -11.40149974822998, -11.403200149536133, -11.404800415039062, -11.406399726867676, -11.40839958190918, -11.40999984741211, -11.410400390625, -11.413599967956543, -11.41409969329834, -11.414600372314453, -11.414799690246582, -11.415300369262695, -11.415399551391602, -11.415499687194824, -11.415599822998047, -11.415599822998047, -11.41569995880127, -11.41569995880127, -11.416099548339844, -1.4606000185012817, -1.6619999408721924, -2.5589001178741455, -2.6010000705718994, -2.787400007247925, -2.787400007247925, -2.8229000568389893, -2.8229000568389893, -3.095400094985962, -3.13070011138916, -3.189300060272217, -3.6314001083374023, -4.214600086212158, -8.695300102233887, -10.622699737548828, -11.069100379943848, -11.444199562072754, -11.444199562072754, -11.46969985961914, -11.46969985961914, -11.46969985961914, -11.46969985961914, -11.46969985961914, -11.46969985961914, -11.46969985961914, -11.46969985961914, -11.46969985961914, -11.46969985961914, -11.46969985961914, -11.46969985961914, -11.445300102233887, -11.45930004119873, -11.463299751281738, -11.463600158691406, -11.463899612426758, -11.464900016784668, -11.46660041809082, -11.466699600219727, -11.466699600219727, -11.468899726867676, -11.469099998474121, -11.469300270080566, -1.3631000518798828, -1.4686000347137451, -2.2915000915527344, -2.501499891281128, -2.6122000217437744, -2.9184000492095947, -3.06030011177063, -3.412400007247925, -3.4175000190734863, -3.918299913406372, -4.267000198364258, -4.640500068664551, -4.836699962615967, -5.039899826049805, -6.321000099182129, -6.321000099182129, -7.463399887084961, -9.713700294494629, -10.673700332641602, -10.674300193786621, -10.674300193786621, -10.674300193786621, -10.674300193786621, -10.674300193786621, -10.674300193786621, -10.674300193786621, -10.674300193786621, -10.674300193786621, -10.674300193786621, -10.674300193786621, -10.58329963684082, -10.65250015258789, -10.654000282287598, -10.65939998626709, -10.665499687194824, -10.666799545288086, -10.667900085449219, -10.668700218200684, -10.67039966583252, -10.67140007019043, -10.671500205993652, -10.671600341796875, -1.5562000274658203, -1.600600004196167, -1.6171000003814697, -1.8966000080108643, -2.885499954223633, -3.1723999977111816, -3.5959999561309814, -3.8062000274658203, -3.8062000274658203, -4.269400119781494, -5.032800197601318, -5.136000156402588, -5.136000156402588, -5.7052001953125, -10.5177001953125, -10.5177001953125, -10.5177001953125, -10.5177001953125, -10.5177001953125, -10.5177001953125, -10.5177001953125, -10.5177001953125, -10.5177001953125, -10.5177001953125, -10.5177001953125, -10.5177001953125, -10.5177001953125, -10.5177001953125, -10.5177001953125, -10.5177001953125, -10.44729995727539, -10.5177001953125, -10.5177001953125, -10.5177001953125, -10.479299545288086, -10.502699851989746, -10.503899574279785, -10.503999710083008, -10.508299827575684, -10.508899688720703, -10.510199546813965, -10.511300086975098, -10.51140022277832, -10.512399673461914, -10.512499809265137, -10.514399528503418, -10.514599800109863, -10.515600204467773, -10.515800476074219], \"loglift\": [30.0, 29.0, 28.0, 27.0, 26.0, 25.0, 24.0, 23.0, 22.0, 21.0, 20.0, 19.0, 18.0, 17.0, 16.0, 15.0, 14.0, 13.0, 12.0, 11.0, 10.0, 9.0, 8.0, 7.0, 6.0, 5.0, 4.0, 3.0, 2.0, 1.0, 0.3391000032424927, 0.3391000032424927, 0.3391000032424927, 0.3391000032424927, 0.3391000032424927, 0.3391000032424927, 0.3391000032424927, 0.3391000032424927, 0.3391000032424927, 0.3391000032424927, 0.3391000032424927, 0.3391000032424927, 0.3391000032424927, 0.3391000032424927, 0.3391000032424927, 0.33899998664855957, 0.33899998664855957, 0.33899998664855957, 0.33899998664855957, 0.33899998664855957, 0.33899998664855957, 0.33899998664855957, 0.33899998664855957, 0.33899998664855957, 0.33899998664855957, 0.33899998664855957, 0.33899998664855957, 0.33899998664855957, 0.33899998664855957, 0.33899998664855957, 1.538699984550476, 1.538699984550476, 1.538699984550476, 1.538599967956543, 1.538599967956543, 1.538599967956543, 1.538599967956543, 1.538599967956543, 1.538599967956543, 1.538599967956543, 1.538599967956543, 1.5384999513626099, 1.5384999513626099, 1.5384999513626099, 1.5384999513626099, 1.5384999513626099, 1.5384999513626099, 1.5384999513626099, 1.5384999513626099, 1.5384999513626099, 1.5384999513626099, 1.5384999513626099, 1.5384000539779663, 1.5384000539779663, 1.5384000539779663, 1.5384000539779663, 1.5384000539779663, 1.5384000539779663, 1.5384000539779663, 1.5384000539779663, 3.25600004196167, 3.2558999061584473, 3.2558000087738037, 3.2558000087738037, 3.2558000087738037, 3.25570011138916, 3.2555999755859375, 3.255500078201294, 3.255500078201294, 3.255500078201294, 3.2553999423980713, 3.2553999423980713, 3.2553000450134277, 3.2553000450134277, 3.2553000450134277, 3.2551000118255615, 3.255000114440918, 3.255000114440918, 3.2548999786376953, 3.254699945449829, 3.254699945449829, 3.254699945449829, 3.254300117492676, 3.254199981689453, 3.2539000511169434, 3.2535998821258545, 3.253499984741211, 3.2530999183654785, 3.2528998851776123, 3.2527999877929688, 4.565199851989746, 4.565199851989746, 4.564499855041504, 4.562900066375732, 4.562600135803223, 4.562099933624268, 4.560999870300293, 4.5609002113342285, 4.559899806976318, 4.558499813079834, 4.557799816131592, 4.557300090789795, 4.5503997802734375, 4.536200046539307, 4.52370023727417, 4.505300045013428, 3.530100107192993, 2.3589999675750732, 2.3582000732421875, 2.358099937438965, 2.358099937438965, 2.358099937438965, 2.358099937438965, 2.358099937438965, 2.358099937438965, 2.358099937438965, 2.358099937438965, 2.358099937438965, 2.358099937438965, 2.358099937438965, 2.358099937438965, 2.358099937438965, 2.358099937438965, 2.358099937438965, -0.805400013923645, -0.805400013923645, 2.358099937438965, 2.358099937438965, 2.358099937438965, 2.358099937438965, -2.2753000259399414, 2.358099937438965, -3.9230000972747803, -4.374800205230713, -4.7378997802734375, -6.526599884033203, -5.749000072479248, -3.8454999923706055, -3.5524001121520996, -4.094200134277344, -7.757599830627441, -4.544300079345703, 4.785999774932861, 4.785900115966797, 4.785399913787842, 4.780700206756592, 4.77400016784668, 4.770400047302246, 4.767899990081787, 2.679500102996826, 2.679500102996826, 2.679500102996826, 2.679500102996826, 2.679500102996826, 2.679500102996826, 2.679500102996826, 2.679500102996826, 2.679500102996826, 2.679500102996826, 2.679500102996826, 2.679500102996826, 2.679500102996826, 2.679500102996826, 2.679500102996826, 2.679500102996826, 2.679500102996826, 2.679500102996826, 2.679500102996826, 2.679500102996826, 2.679500102996826, 2.679500102996826, 2.679500102996826, -4.721099853515625, -3.3689000606536865, -4.101900100708008, -4.101900100708008, -4.303800106048584, -6.071199893951416, -4.648200035095215, -5.138199806213379, -2.9412999153137207, -4.994699954986572, -6.341700077056885, -5.056700229644775, -5.863900184631348, -7.138199806213379, -6.772200107574463, -6.788099765777588, -6.952499866485596, -7.793399810791016, -5.781700134277344, -6.741499900817871, -7.269800186157227, -6.869100093841553, -5.269800186157227, 4.985899925231934, 4.985799789428711, 4.985000133514404, 4.985000133514404, 4.9847002029418945, 4.9847002029418945, 4.984600067138672, 4.984600067138672, 4.984099864959717, 4.984000205993652, 4.98390007019043, 4.982500076293945, 4.979599952697754, 4.517199993133545, 3.3489999771118164, 2.9809999465942383, 2.648900032043457, 2.648900032043457, 2.6257998943328857, 2.6257998943328857, 2.6257998943328857, 2.6257998943328857, 2.6257998943328857, 2.6257998943328857, 2.6257998943328857, 2.6257998943328857, 2.6257998943328857, 2.6257998943328857, 2.6257998943328857, 2.6257998943328857, -6.03410005569458, -4.375800132751465, -7.1869001388549805, -7.670599937438965, -3.5364999771118164, -3.8677000999450684, -5.493299961090088, -4.854400157928467, -5.109799861907959, -8.164199829101562, -7.2104997634887695, -7.592400074005127, 5.40939998626709, 5.409299850463867, 5.4085001945495605, 5.408199787139893, 5.407899856567383, 5.407199859619141, 5.406799793243408, 5.4054999351501465, 5.4054999351501465, 5.402599811553955, 5.399600028991699, 5.394899845123291, 5.39169979095459, 5.387599945068359, 5.331900119781494, 5.331900119781494, 5.1834001541137695, 4.180699825286865, 3.421799898147583, 3.4212000370025635, 3.4212000370025635, 3.4212000370025635, 3.4212000370025635, 3.4212000370025635, 3.4212000370025635, 3.4212000370025635, 3.4212000370025635, 3.4212000370025635, 3.4212000370025635, 3.4212000370025635, -4.610000133514404, -3.4647998809814453, -2.2090001106262207, -2.7611000537872314, -2.912400007247925, -3.1786999702453613, -6.693900108337402, -7.363999843597412, -6.178899765014648, -3.487299919128418, -3.000499963760376, -4.637499809265137, 5.436200141906738, 5.436100006103516, 5.436100006103516, 5.4359002113342285, 5.434199810028076, 5.4334001541137695, 5.43149995803833, 5.430300235748291, 5.430300235748291, 5.426400184631348, 5.414599895477295, 5.410699844360352, 5.410699844360352, 5.393700122833252, 3.577899932861328, 3.577899932861328, 3.577899932861328, 3.577899932861328, 3.577899932861328, 3.577899932861328, 3.577899932861328, 3.577899932861328, 3.577899932861328, 3.577899932861328, 3.577899932861328, 3.577899932861328, 3.577899932861328, 3.577899932861328, 3.577899932861328, 3.577899932861328, -0.9965000152587891, 3.577899932861328, 3.577899932861328, 3.577899932861328, -2.845900058746338, -3.9430999755859375, -3.6846001148223877, -3.7444000244140625, -5.273900032043457, -2.9923999309539795, -4.1946001052856445, -4.474699974060059, -3.3131000995635986, -6.719299793243408, -3.906599998474121, -5.6946001052856445, -6.637700080871582, -5.108799934387207, -5.413599967956543]}, \"token.table\": {\"Topic\": [3, 7, 3, 7, 6, 1, 4, 7, 1, 2, 1, 1, 1, 1, 1, 1, 6, 4, 1, 3, 2, 4, 1, 1, 5, 1, 2, 1, 8, 2, 2, 3, 3, 7, 4, 3, 1, 3, 8, 4, 3, 8, 4, 8, 1, 1, 2, 1, 6, 6, 1, 2, 8, 2, 8, 2, 2, 5, 3, 6, 3, 4, 1, 2, 2, 8, 5, 2, 3, 8, 1, 2, 2, 6, 3, 3, 7, 7, 1, 1, 2, 6, 1, 1, 5, 4, 2, 1, 1, 3, 7, 1, 1, 2, 1, 3, 1, 3, 1, 2, 2, 1, 3, 4, 1, 1, 2, 3, 2, 6, 1, 7, 3, 7, 1, 2, 1, 7, 2, 1, 1, 1, 4, 1, 8, 6, 1, 1, 3, 3, 1, 8, 7, 2, 4, 3, 2, 7, 8, 1, 1, 1, 2, 2, 2, 2, 1, 4, 1, 5, 5, 6, 2, 2, 2, 8, 2, 1, 7, 6, 2, 4, 7, 7, 6, 6, 8, 5, 6, 3, 1, 3, 1, 3, 7, 2, 2, 3, 3, 2, 4, 3, 8, 1, 3, 4, 1, 4, 2, 1, 2, 7, 2, 1, 3, 1, 2], \"Freq\": [0.997535228729248, 0.966650128364563, 0.9995344877243042, 0.9991226196289062, 0.9968113899230957, 0.9999729990959167, 0.9931600093841553, 0.8896365761756897, 0.9987055659294128, 0.9999138116836548, 0.9996050000190735, 0.9998574256896973, 0.9999352097511292, 0.9999298453330994, 0.9995841383934021, 0.9988625049591064, 0.997931182384491, 0.9971777200698853, 0.9999532699584961, 0.9998120665550232, 0.9998899102210999, 0.9953178763389587, 0.999155580997467, 0.9999514818191528, 0.979539155960083, 0.9998809695243835, 0.9999477863311768, 0.9991690516471863, 0.9992256760597229, 0.9910533428192139, 0.9998039603233337, 0.9980034828186035, 0.9973213076591492, 0.9886289834976196, 0.9912198781967163, 0.9990414381027222, 0.998828649520874, 0.9988054633140564, 0.9995599389076233, 0.9998430013656616, 0.9997895956039429, 0.9971842765808105, 0.9989835023880005, 0.992385983467102, 0.9998875260353088, 0.999944806098938, 0.9996920824050903, 0.9998689293861389, 0.9981104731559753, 0.9985522627830505, 0.9994620680809021, 0.9996860027313232, 0.9712069630622864, 0.9997393488883972, 0.971407413482666, 0.9996578693389893, 0.9974911212921143, 0.9994614124298096, 0.9987258315086365, 0.998180627822876, 0.9984827041625977, 0.987686812877655, 0.9994954466819763, 0.9998617768287659, 0.9987798929214478, 0.9991182088851929, 0.99359530210495, 0.9995992183685303, 0.9986147880554199, 0.9920581579208374, 0.9993895888328552, 0.9997134804725647, 0.9987156987190247, 0.9996563196182251, 0.9995984435081482, 0.9993274211883545, 0.9984641671180725, 0.9962190389633179, 0.9998469948768616, 0.9999514818191528, 0.9978254437446594, 0.9985754489898682, 0.9999622702598572, 0.9999076724052429, 0.9998559355735779, 0.9976303577423096, 0.9992422461509705, 0.9997805953025818, 0.9999733567237854, 0.9973637461662292, 0.9847601056098938, 0.998096227645874, 0.9999749660491943, 0.9995900988578796, 0.9985730051994324, 0.9989814758300781, 0.9999210834503174, 0.9998695254325867, 0.9998688101768494, 0.9990729689598083, 0.9997981190681458, 0.9999653100967407, 0.9995179176330566, 0.9977191686630249, 0.9999171495437622, 0.9998717308044434, 0.9996038675308228, 0.9988145232200623, 0.9999294877052307, 0.9985474944114685, 0.996587872505188, 0.9975923299789429, 0.9955461621284485, 0.9934632778167725, 0.9935068488121033, 0.9998589754104614, 0.9995546936988831, 0.8896365761756897, 0.9996810555458069, 0.9998579621315002, 0.9999081492424011, 0.9997872114181519, 0.9965081810951233, 0.99763023853302, 0.9966681003570557, 0.9980065226554871, 0.9997410774230957, 0.9999600648880005, 0.9992307424545288, 0.9993588328361511, 0.9992280602455139, 0.9712069630622864, 0.9977916479110718, 0.9997479319572449, 0.9389774203300476, 0.9994103312492371, 0.9996740818023682, 0.9883741140365601, 0.9994171261787415, 0.9992771148681641, 0.9999138116836548, 0.9999442100524902, 0.9999261498451233, 0.9998146295547485, 0.999880850315094, 0.9997525811195374, 0.9998241066932678, 0.9392393231391907, 0.9999838471412659, 0.9897150993347168, 0.9944644570350647, 0.9969310164451599, 0.9999503493309021, 0.9995367527008057, 0.9999133348464966, 0.9860381484031677, 0.9998494386672974, 0.9987973570823669, 0.9991039037704468, 0.9994961619377136, 0.9996898174285889, 0.9551299214363098, 0.9991006255149841, 0.996781051158905, 0.9985474944114685, 0.42316609621047974, 0.992385983467102, 0.9998408555984497, 0.99857097864151, 0.9991598129272461, 0.9999334812164307, 0.9971356391906738, 0.9996883869171143, 0.9999597072601318, 0.721052885055542, 0.9995753169059753, 0.9998140931129456, 0.9971903562545776, 0.999880313873291, 0.9997304081916809, 0.9914855360984802, 0.9997532963752747, 0.9928643107414246, 0.9999803900718689, 0.9991337656974792, 0.999822199344635, 0.9999502301216125, 0.9939404726028442, 0.9985978603363037, 0.9997969269752502, 0.9996693730354309, 0.9974331259727478, 0.9998293519020081, 0.9999527335166931, 0.9990826845169067, 0.9988625049591064, 0.999838650226593], \"Term\": [\"aid\", \"aluminium\", \"animal\", \"asstd\", \"back\", \"bag\", \"ball\", \"battery\", \"bead\", \"birthday\", \"block\", \"blue\", \"bottle\", \"box\", \"bracelet\", \"building\", \"cabinet\", \"cafe\", \"cake\", \"calm\", \"candle\", \"candy\", \"car\", \"card\", \"carrier\", \"case\", \"ceramic\", \"chalk\", \"charm\", \"cherry\", \"chocolate\", \"choice\", \"cigar\", \"circle\", \"class\", \"coat\", \"coloured\", \"come\", \"container\", \"cover\", \"craft\", \"crystal\", \"cushion\", \"daisie\", \"decoration\", \"design\", \"dinner\", \"dolly\", \"donkey\", \"door\", \"doormat\", \"doorstop\", \"dot\", \"drawer\", \"drink\", \"egg\", \"fan\", \"fancy\", \"feel\", \"feltcraft\", \"first\", \"floor\", \"floral\", \"flower\", \"font\", \"food\", \"foot\", \"french\", \"friend\", \"frog\", \"fruit\", \"fry\", \"funky\", \"game\", \"gardener\", \"giant\", \"glider\", \"good\", \"hand\", \"hang\", \"happy\", \"head\", \"heart\", \"holder\", \"home\", \"honeycomb\", \"hook\", \"horse\", \"hot\", \"housework\", \"icon\", \"iron\", \"jumbo\", \"key\", \"kid\", \"king\", \"kit\", \"kneel\", \"large\", \"leave\", \"letter\", \"light\", \"little\", \"local\", \"love\", \"lunch\", \"magnet\", \"match\", \"metal\", \"mice\", \"mobile\", \"monkey\", \"monster\", \"mum\", \"necklace\", \"notebook\", \"office\", \"operate\", \"owl\", \"pack\", \"paper\", \"party\", \"passport\", \"pen\", \"phone\", \"pick\", \"piece\", \"pink\", \"plaster\", \"play\", \"pocket\", \"polka\", \"pop\", \"pot\", \"provencal\", \"purse\", \"rabbit\", \"racing\", \"raffia\", \"record\", \"red\", \"retrospot\", \"ribbon\", \"ring\", \"rise\", \"roll\", \"round\", \"seat\", \"set\", \"sheet\", \"shelf\", \"shoulder\", \"sign\", \"slate\", \"small\", \"sponge\", \"spot\", \"square\", \"stamp\", \"stick\", \"sticker\", \"stitch\", \"stock\", \"stool\", \"stripey\", \"suede\", \"summer\", \"sweet\", \"tail\", \"tall\", \"tea\", \"ticket\", \"tier\", \"tin\", \"toast\", \"top\", \"traditional\", \"transport\", \"travel\", \"trinket\", \"tropical\", \"tube\", \"vine\", \"vintage\", \"wallet\", \"warm\", \"water\", \"weave\", \"welcome\", \"white\", \"wicker\", \"wish\", \"wood\", \"wooden\", \"woodland\", \"word\", \"wrap\"]}, \"R\": 30, \"lambda.step\": 0.01, \"plot.opts\": {\"xlab\": \"PC1\", \"ylab\": \"PC2\"}, \"topic.order\": [4, 7, 6, 1, 3, 8, 2, 5]};\n",
       "\n",
       "function LDAvis_load_lib(url, callback){\n",
       "  var s = document.createElement('script');\n",
       "  s.src = url;\n",
       "  s.async = true;\n",
       "  s.onreadystatechange = s.onload = callback;\n",
       "  s.onerror = function(){console.warn(\"failed to load library \" + url);};\n",
       "  document.getElementsByTagName(\"head\")[0].appendChild(s);\n",
       "}\n",
       "\n",
       "if(typeof(LDAvis) !== \"undefined\"){\n",
       "   // already loaded: just create the visualization\n",
       "   !function(LDAvis){\n",
       "       new LDAvis(\"#\" + \"ldavis_el494418325913370567509328347\", ldavis_el494418325913370567509328347_data);\n",
       "   }(LDAvis);\n",
       "}else if(typeof define === \"function\" && define.amd){\n",
       "   // require.js is available: use it to load d3/LDAvis\n",
       "   require.config({paths: {d3: \"https://cdnjs.cloudflare.com/ajax/libs/d3/3.5.5/d3.min\"}});\n",
       "   require([\"d3\"], function(d3){\n",
       "      window.d3 = d3;\n",
       "      LDAvis_load_lib(\"https://cdn.rawgit.com/bmabey/pyLDAvis/files/ldavis.v1.0.0.js\", function(){\n",
       "        new LDAvis(\"#\" + \"ldavis_el494418325913370567509328347\", ldavis_el494418325913370567509328347_data);\n",
       "      });\n",
       "    });\n",
       "}else{\n",
       "    // require.js not available: dynamically load d3 & LDAvis\n",
       "    LDAvis_load_lib(\"https://cdnjs.cloudflare.com/ajax/libs/d3/3.5.5/d3.min.js\", function(){\n",
       "         LDAvis_load_lib(\"https://cdn.rawgit.com/bmabey/pyLDAvis/files/ldavis.v1.0.0.js\", function(){\n",
       "                 new LDAvis(\"#\" + \"ldavis_el494418325913370567509328347\", ldavis_el494418325913370567509328347_data);\n",
       "            })\n",
       "         });\n",
       "}\n",
       "</script>"
      ],
      "text/plain": [
       "PreparedData(topic_coordinates=              x         y  topics  cluster       Freq\n",
       "topic                                                \n",
       "3      0.257333 -0.190463       1        1  71.239891\n",
       "6     -0.107701  0.386049       2        1  21.465414\n",
       "5     -0.360954 -0.227209       3        1   3.854026\n",
       "0     -0.055020 -0.022770       4        1   1.040609\n",
       "2      0.009947 -0.002019       5        1   0.834462\n",
       "7      0.008295 -0.002863       6        1   0.683078\n",
       "1      0.118828  0.028073       7        1   0.447196\n",
       "4      0.129273  0.031202       8        1   0.435319, topic_info=          Term          Freq         Total Category  logprob  loglift\n",
       "194        tin  10028.000000  10028.000000  Default  30.0000  30.0000\n",
       "4         home   6172.000000   6172.000000  Default  29.0000  29.0000\n",
       "27        warm   5915.000000   5915.000000  Default  28.0000  28.0000\n",
       "35       metal  14906.000000  14906.000000  Default  27.0000  27.0000\n",
       "120      small  13751.000000  13751.000000  Default  26.0000  26.0000\n",
       "..         ...           ...           ...      ...      ...      ...\n",
       "314    sticker      0.153058   1748.542358   Topic8 -10.5125  -3.9066\n",
       "34        love      0.152778  10432.864258   Topic8 -10.5144  -5.6946\n",
       "83         bag      0.152743  26782.722656   Topic8 -10.5146  -6.6377\n",
       "13       white      0.152593   5800.177734   Topic8 -10.5156  -5.1088\n",
       "53   retrospot      0.152559   7865.438965   Topic8 -10.5158  -5.4136\n",
       "\n",
       "[358 rows x 6 columns], token_table=      Topic      Freq       Term\n",
       "term                            \n",
       "391       3  0.997535        aid\n",
       "1086      7  0.966650  aluminium\n",
       "347       3  0.999534     animal\n",
       "599       7  0.999123      asstd\n",
       "753       6  0.996811       back\n",
       "...     ...       ...        ...\n",
       "168       2  0.999829       wood\n",
       "80        1  0.999953     wooden\n",
       "348       3  0.999083   woodland\n",
       "33        1  0.998863       word\n",
       "291       2  0.999839       wrap\n",
       "\n",
       "[197 rows x 3 columns], R=30, lambda_step=0.01, plot_opts={'xlab': 'PC1', 'ylab': 'PC2'}, topic_order=[4, 7, 6, 1, 3, 8, 2, 5])"
      ]
     },
     "execution_count": 38,
     "metadata": {},
     "output_type": "execute_result"
    }
   ],
   "source": [
    "pyLDAvis.enable_notebook()\n",
    "\n",
    "vis = pyLDAvis.gensim.prepare(lda_model, corpus, id2word)\n",
    "vis"
   ]
  }
 ],
 "metadata": {
  "kernelspec": {
   "display_name": "Python 3",
   "language": "python",
   "name": "python3"
  },
  "language_info": {
   "codemirror_mode": {
    "name": "ipython",
    "version": 3
   },
   "file_extension": ".py",
   "mimetype": "text/x-python",
   "name": "python",
   "nbconvert_exporter": "python",
   "pygments_lexer": "ipython3",
   "version": "3.8.3"
  }
 },
 "nbformat": 4,
 "nbformat_minor": 4
}
